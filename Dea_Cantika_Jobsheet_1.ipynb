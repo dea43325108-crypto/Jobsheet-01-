{
  "nbformat": 4,
  "nbformat_minor": 0,
  "metadata": {
    "colab": {
      "provenance": [],
      "authorship_tag": "ABX9TyOlKdrtdFQ9LS+rrAR8p027",
      "include_colab_link": true
    },
    "kernelspec": {
      "name": "python3",
      "display_name": "Python 3"
    },
    "language_info": {
      "name": "python"
    }
  },
  "cells": [
    {
      "cell_type": "markdown",
      "metadata": {
        "id": "view-in-github",
        "colab_type": "text"
      },
      "source": [
        "<a href=\"https://colab.research.google.com/github/dea43325108-crypto/Jobsheet-01-/blob/main/Dea_Cantika_Jobsheet_1.ipynb\" target=\"_parent\"><img src=\"https://colab.research.google.com/assets/colab-badge.svg\" alt=\"Open In Colab\"/></a>"
      ]
    },
    {
      "cell_type": "code",
      "execution_count": null,
      "metadata": {
        "id": "bMAbrEycRCNv"
      },
      "outputs": [],
      "source": []
    },
    {
      "cell_type": "markdown",
      "source": [
        "Praktikum 01. Menghitung Luas Persegi Panjang"
      ],
      "metadata": {
        "id": "9ThzWYOlRRWH"
      }
    },
    {
      "cell_type": "markdown",
      "source": [
        "# Praktikum 01. Menghitung Luas Persegi Panjang #"
      ],
      "metadata": {
        "id": "UOThnh3mToAp"
      }
    },
    {
      "cell_type": "code",
      "source": [
        "p = int(input(\"Masukkan panjang: \"))\n",
        "l = int(input(\"Masukkan lebar: \"))\n",
        "luas = p * l\n",
        "print(\"Luas persegi panjang =\", luas)"
      ],
      "metadata": {
        "colab": {
          "base_uri": "https://localhost:8080/"
        },
        "id": "KSprpV3ZShXL",
        "outputId": "86dcfa73-bee8-40c2-9999-36d26d728480"
      },
      "execution_count": null,
      "outputs": [
        {
          "output_type": "stream",
          "name": "stdout",
          "text": [
            "Masukkan panjang: 5\n",
            "Masukkan lebar: 4\n",
            "Luas persegi panjang = 20\n"
          ]
        }
      ]
    },
    {
      "cell_type": "markdown",
      "source": [
        "# Praktikum 02. Menghitung Luas Segitiga #"
      ],
      "metadata": {
        "id": "VZvQCrJ5Tavi"
      }
    },
    {
      "cell_type": "code",
      "source": [
        "import math\n",
        "\n",
        "a = float (input(\"Masukkan sisi a: \"))\n",
        "b = float (input(\"Masukkan sisi b: \"))\n",
        "c = float (input(\"Masukkan sisi c: \"))\n",
        "\n",
        "s = (a + b + c)/2\n",
        "luas = math.sqrt(s* (s-a)*(s-b)*(s-c))\n",
        "print(\"Luas segitiga =\", luas)\n"
      ],
      "metadata": {
        "colab": {
          "base_uri": "https://localhost:8080/"
        },
        "id": "8TlsRVMeTRl4",
        "outputId": "06aba875-ed30-43fe-afb8-dd08c0eb2a64"
      },
      "execution_count": null,
      "outputs": [
        {
          "output_type": "stream",
          "name": "stdout",
          "text": [
            "Masukkan sisi a: 4\n",
            "Masukkan sisi b: 5\n",
            "Masukkan sisi c: 6\n",
            "Luas segitiga = 9.921567416492215\n"
          ]
        }
      ]
    },
    {
      "cell_type": "markdown",
      "source": [
        "# Praktikum 03. Konversi Suhu Celcius ke Fahrenheit #"
      ],
      "metadata": {
        "id": "83E6irmtU7Cl"
      }
    },
    {
      "cell_type": "code",
      "source": [
        "c = float(input(\"Masukkan suhu (C): \"))\n",
        "F = (c * 9/5) + 32\n",
        "print(\"Hasil konversi =\", F, \"F\")"
      ],
      "metadata": {
        "colab": {
          "base_uri": "https://localhost:8080/"
        },
        "id": "wDljnJ_YU082",
        "outputId": "d47b92a4-323d-42df-b9fb-eb3aa3daf247"
      },
      "execution_count": null,
      "outputs": [
        {
          "output_type": "stream",
          "name": "stdout",
          "text": [
            "Masukkan suhu (C): 12\n",
            "Hasil konversi = 53.6 F\n"
          ]
        }
      ]
    },
    {
      "cell_type": "markdown",
      "source": [
        "# Praktikum 04. Menghitung Umur Berdasarkan Tahun Lahir #"
      ],
      "metadata": {
        "id": "bhjSStj7XlRQ"
      }
    },
    {
      "cell_type": "code",
      "source": [
        "tahun_lahir =int(input(\"Masukkan tahun lahir: \"))\n",
        "tahun_sekarang = 2025\n",
        "umur = tahun_sekarang - tahun_lahir\n",
        "print(\"Umur anda = \", umur, \"tahun\")"
      ],
      "metadata": {
        "colab": {
          "base_uri": "https://localhost:8080/"
        },
        "id": "WTUtvZXxWhOt",
        "outputId": "a8b8ae22-2bc8-4e16-f7e7-63b6d0590d97"
      },
      "execution_count": null,
      "outputs": [
        {
          "output_type": "stream",
          "name": "stdout",
          "text": [
            "Masukkan tahun lahir: 2006\n",
            "Umur anda =  19 tahun\n"
          ]
        }
      ]
    },
    {
      "cell_type": "markdown",
      "source": [
        "# Praktikum 05. Menghitung Luas Lingkaran #"
      ],
      "metadata": {
        "id": "JbQzFcuvYhAX"
      }
    },
    {
      "cell_type": "code",
      "source": [
        "import math\n",
        "r = float(input(\"Masukkan jari-jari lingkaran: \"))\n",
        "luas = math.pi * r * r\n",
        "print(\"Luas lingkaran =\", luas)\n"
      ],
      "metadata": {
        "colab": {
          "base_uri": "https://localhost:8080/"
        },
        "id": "f8_gFE6IYXqj",
        "outputId": "07bcfa86-0198-4b1e-c17d-95f3aded9bd7"
      },
      "execution_count": null,
      "outputs": [
        {
          "output_type": "stream",
          "name": "stdout",
          "text": [
            "Masukkan jari-jari lingkaran: 14\n",
            "Luas lingkaran = 615.7521601035994\n"
          ]
        }
      ]
    },
    {
      "cell_type": "markdown",
      "source": [
        "# Praktikum 06. Menjumlahkan Tiga Bilangan #"
      ],
      "metadata": {
        "id": "C_RARyVCo1U7"
      }
    },
    {
      "cell_type": "code",
      "source": [
        "a = int(input(\"Masukkan bilangan pertama: \"))\n",
        "b = int(input(\"Masukkan bilangan kedua: \"))\n",
        "c = int(input(\"Masukkan bilangan ketiga: \"))\n",
        "jumlah = a + b + c\n",
        "print(\"Jumlah =\", jumlah)"
      ],
      "metadata": {
        "colab": {
          "base_uri": "https://localhost:8080/"
        },
        "id": "tMM2SDiqoPkr",
        "outputId": "7ebd3fe6-b6e5-4c4f-cbb1-3910c506bb27"
      },
      "execution_count": null,
      "outputs": [
        {
          "output_type": "stream",
          "name": "stdout",
          "text": [
            "Masukkan bilangan pertama: 9\n",
            "Masukkan bilangan kedua: 5\n",
            "Masukkan bilangan ketiga: 3\n",
            "Jumlah = 17\n"
          ]
        }
      ]
    },
    {
      "cell_type": "markdown",
      "source": [
        "# Penugasan Menghitung Volume Balok #"
      ],
      "metadata": {
        "id": "PJoOqNXzz3Va"
      }
    },
    {
      "cell_type": "code",
      "source": [
        "p = int(input(\"p: \"))\n",
        "l = int(input(\"l: \"))\n",
        "t = int(input(\"t: \"))\n",
        "volume = p * l * t\n",
        "print(\"Volume balok=\", volume)"
      ],
      "metadata": {
        "colab": {
          "base_uri": "https://localhost:8080/"
        },
        "id": "_7bFLqozp58o",
        "outputId": "a6ff389f-357f-494e-ccbd-929fc0a7080a"
      },
      "execution_count": null,
      "outputs": [
        {
          "output_type": "stream",
          "name": "stdout",
          "text": [
            "p: 15\n",
            "l: 6\n",
            "t: 9\n",
            "Volume balok= 810\n"
          ]
        }
      ]
    },
    {
      "cell_type": "markdown",
      "source": [
        "# Penugasan Konversi Waktu (detik ke jam:menit:detik) #"
      ],
      "metadata": {
        "id": "JyEeMNKsHmNR"
      }
    },
    {
      "cell_type": "code",
      "source": [
        "totaldetik = int(input(\"Masukkan total detik: \"))\n",
        "jam = totaldetik // 3600\n",
        "sisadetik = totaldetik % 3600\n",
        "menit = sisadetik // 60\n",
        "detik = sisadetik % 60\n",
        "print(\"Hasil konversi waktunya adalah \", jam, \"jam\", menit, \"menit\", detik, \"detik\")"
      ],
      "metadata": {
        "id": "FPsH8dZa1JTp",
        "colab": {
          "base_uri": "https://localhost:8080/"
        },
        "outputId": "cc66757c-f852-49a8-87cb-4908b0a68426"
      },
      "execution_count": null,
      "outputs": [
        {
          "output_type": "stream",
          "name": "stdout",
          "text": [
            "Masukkan total detik: 3670\n",
            "Hasil konversi waktunya adalah  1 jam 1 menit 10 detik\n"
          ]
        }
      ]
    },
    {
      "cell_type": "markdown",
      "source": [
        "# Penugasan Menghitung Rata-rata Nilai Tiga Mata Kuliah #"
      ],
      "metadata": {
        "id": "eO_myg2PS7mf"
      }
    },
    {
      "cell_type": "code",
      "source": [
        "nilai1 = int(input(\"Maukkan nilai 1: \"))\n",
        "nilai2 = int(input(\"Masukkan nilai 2: \"))\n",
        "nilai3 = int(input(\"Masukkan nilai 3: \"))\n",
        "ratarata = (nilai1 + nilai2 + nilai3)//-3\n",
        "if ratarata >=60:\n",
        "  print(str(ratarata) + \", lulus\" )\n",
        "if ratarata <60:\n",
        "  print(str(ratarata) + \", tidak lulus\")"
      ],
      "metadata": {
        "id": "d5cNmNfMJUgT",
        "colab": {
          "base_uri": "https://localhost:8080/"
        },
        "outputId": "736b90be-4b02-4b93-8105-bf463b7c7d2d"
      },
      "execution_count": 4,
      "outputs": [
        {
          "output_type": "stream",
          "name": "stdout",
          "text": [
            "Maukkan nilai 1: 70\n",
            "Masukkan nilai 2: 60\n",
            "Masukkan nilai 3: 60\n",
            "63, lulus\n"
          ]
        }
      ]
    },
    {
      "cell_type": "markdown",
      "source": [
        "# Penugasan Menghitung Diskon Belanja #"
      ],
      "metadata": {
        "id": "ABv-dC-Ksm7o"
      }
    },
    {
      "cell_type": "code",
      "source": [
        "belanja= int(input(\"Masukkan total belanja: \"))\n",
        "if belanja >= 500000:\n",
        "  diskon = 0.20 * belanja\n",
        "elif belanja >= 250000:\n",
        "  diskon = 0.10 * belanja\n",
        "else:\n",
        "  diskon = 0\n",
        "total_bayar = belanja - diskon\n",
        "print(\"Total belanja:\", belanja)\n",
        "print(\"Diskon:\", diskon)\n",
        "print(\"Total bayar setelah diskon:\", total_bayar)\n"
      ],
      "metadata": {
        "colab": {
          "base_uri": "https://localhost:8080/"
        },
        "id": "0RFA5G_hSwJA",
        "outputId": "cdfdfbc1-f1f4-46bf-c6d1-45d146704590"
      },
      "execution_count": 10,
      "outputs": [
        {
          "output_type": "stream",
          "name": "stdout",
          "text": [
            "Masukkan total belanja: 500000\n",
            "Total belanja: 500000\n",
            "Diskon: 100000.0\n",
            "Total bayar setelah diskon: 400000.0\n"
          ]
        }
      ]
    }
  ]
}